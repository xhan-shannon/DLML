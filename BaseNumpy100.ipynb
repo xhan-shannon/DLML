{
 "cells": [
  {
   "cell_type": "code",
   "execution_count": 2,
   "metadata": {
    "collapsed": true
   },
   "outputs": [],
   "source": [
    "# http://www.bkjia.com/ASPjc/944250.html\n",
    "import numpy as np"
   ]
  },
  {
   "cell_type": "code",
   "execution_count": 3,
   "metadata": {
    "collapsed": false
   },
   "outputs": [
    {
     "name": "stdout",
     "output_type": "stream",
     "text": [
      "1.11.3\n"
     ]
    }
   ],
   "source": [
    "print np.__version__"
   ]
  },
  {
   "cell_type": "code",
   "execution_count": 4,
   "metadata": {
    "collapsed": false
   },
   "outputs": [
    {
     "name": "stdout",
     "output_type": "stream",
     "text": [
      "lapack_opt_info:\n",
      "    libraries = ['mkl_intel_lp64', 'mkl_intel_thread', 'mkl_core', 'iomp5', 'pthread']\n",
      "    library_dirs = ['/home/nco/anaconda2/lib']\n",
      "    define_macros = [('SCIPY_MKL_H', None), ('HAVE_CBLAS', None)]\n",
      "    include_dirs = ['/home/nco/anaconda2/include']\n",
      "blas_opt_info:\n",
      "    libraries = ['mkl_intel_lp64', 'mkl_intel_thread', 'mkl_core', 'iomp5', 'pthread']\n",
      "    library_dirs = ['/home/nco/anaconda2/lib']\n",
      "    define_macros = [('SCIPY_MKL_H', None), ('HAVE_CBLAS', None)]\n",
      "    include_dirs = ['/home/nco/anaconda2/include']\n",
      "openblas_lapack_info:\n",
      "  NOT AVAILABLE\n",
      "lapack_mkl_info:\n",
      "    libraries = ['mkl_intel_lp64', 'mkl_intel_thread', 'mkl_core', 'iomp5', 'pthread']\n",
      "    library_dirs = ['/home/nco/anaconda2/lib']\n",
      "    define_macros = [('SCIPY_MKL_H', None), ('HAVE_CBLAS', None)]\n",
      "    include_dirs = ['/home/nco/anaconda2/include']\n",
      "blas_mkl_info:\n",
      "    libraries = ['mkl_intel_lp64', 'mkl_intel_thread', 'mkl_core', 'iomp5', 'pthread']\n",
      "    library_dirs = ['/home/nco/anaconda2/lib']\n",
      "    define_macros = [('SCIPY_MKL_H', None), ('HAVE_CBLAS', None)]\n",
      "    include_dirs = ['/home/nco/anaconda2/include']\n",
      "None\n"
     ]
    }
   ],
   "source": [
    "print np.__config__.show()"
   ]
  },
  {
   "cell_type": "code",
   "execution_count": 7,
   "metadata": {
    "collapsed": false
   },
   "outputs": [
    {
     "name": "stdout",
     "output_type": "stream",
     "text": [
      "[[ 0.  0.  0.]\n",
      " [ 0.  0.  0.]]\n"
     ]
    }
   ],
   "source": [
    "z = np.zeros((2,3))\n",
    "print z"
   ]
  },
  {
   "cell_type": "code",
   "execution_count": 8,
   "metadata": {
    "collapsed": false
   },
   "outputs": [
    {
     "name": "stdout",
     "output_type": "stream",
     "text": [
      "[[ 0.  0.  0.]\n",
      " [ 0.  0.  9.]]\n"
     ]
    }
   ],
   "source": [
    "z[1, 2] = 9\n",
    "print z"
   ]
  },
  {
   "cell_type": "code",
   "execution_count": 9,
   "metadata": {
    "collapsed": false
   },
   "outputs": [
    {
     "name": "stdout",
     "output_type": "stream",
     "text": [
      "[[  1   2   3   4   5   6   7   8   9  10]\n",
      " [ 11  12  13  14  15  16  17  18  19  20]\n",
      " [ 21  22  23  24  25  26  27  28  29  30]\n",
      " [ 31  32  33  34  35  36  37  38  39  40]\n",
      " [ 41  42  43  44  45  46  47  48  49  50]\n",
      " [ 51  52  53  54  55  56  57  58  59  60]\n",
      " [ 61  62  63  64  65  66  67  68  69  70]\n",
      " [ 71  72  73  74  75  76  77  78  79  80]\n",
      " [ 81  82  83  84  85  86  87  88  89  90]\n",
      " [ 91  92  93  94  95  96  97  98  99 100]]\n"
     ]
    }
   ],
   "source": [
    "z = np.arange(1, 101).reshape(10, 10)\n",
    "print z"
   ]
  },
  {
   "cell_type": "code",
   "execution_count": 11,
   "metadata": {
    "collapsed": false
   },
   "outputs": [
    {
     "name": "stdout",
     "output_type": "stream",
     "text": [
      "(array([0, 1, 2, 3, 4, 5, 6, 7, 8, 9]),)\n"
     ]
    }
   ],
   "source": [
    "nz = np.nonzero(z[0])\n",
    "print nz"
   ]
  },
  {
   "cell_type": "code",
   "execution_count": 15,
   "metadata": {
    "collapsed": false
   },
   "outputs": [
    {
     "name": "stdout",
     "output_type": "stream",
     "text": [
      "[[ 1.  0.  0.  0.  0.  0.]\n",
      " [ 0.  1.  0.  0.  0.  0.]\n",
      " [ 0.  0.  1.  0.  0.  0.]\n",
      " [ 0.  0.  0.  1.  0.  0.]\n",
      " [ 0.  0.  0.  0.  1.  0.]\n",
      " [ 0.  0.  0.  0.  0.  1.]]\n"
     ]
    }
   ],
   "source": [
    "#generate unit vector using eye function\n",
    "\n",
    "uv = np.eye(6)\n",
    "print uv\n"
   ]
  },
  {
   "cell_type": "code",
   "execution_count": 19,
   "metadata": {
    "collapsed": false
   },
   "outputs": [
    {
     "name": "stdout",
     "output_type": "stream",
     "text": [
      "[[1 0 0 0 0 0]\n",
      " [0 2 0 0 0 0]\n",
      " [0 0 3 0 0 0]\n",
      " [0 0 0 4 0 0]\n",
      " [0 0 0 0 5 0]\n",
      " [0 0 0 0 0 6]]\n",
      "[[0 1 0 0 0 0 0]\n",
      " [0 0 2 0 0 0 0]\n",
      " [0 0 0 3 0 0 0]\n",
      " [0 0 0 0 4 0 0]\n",
      " [0 0 0 0 0 5 0]\n",
      " [0 0 0 0 0 0 6]\n",
      " [0 0 0 0 0 0 0]]\n",
      "[[0 0 0 0 0 0 0]\n",
      " [1 0 0 0 0 0 0]\n",
      " [0 2 0 0 0 0 0]\n",
      " [0 0 3 0 0 0 0]\n",
      " [0 0 0 4 0 0 0]\n",
      " [0 0 0 0 5 0 0]\n",
      " [0 0 0 0 0 6 0]]\n"
     ]
    }
   ],
   "source": [
    "vdiag = np.diag([1, 2, 3, 4, 5, 6], k=0)\n",
    "print vdiag\n",
    "\n",
    "vdiag = np.diag([1, 2, 3, 4, 5, 6], k=1)\n",
    "print vdiag\n",
    "\n",
    "vdiag = np.diag([1, 2, 3, 4, 5, 6], k=-1)\n",
    "print vdiag\n"
   ]
  },
  {
   "cell_type": "code",
   "execution_count": 21,
   "metadata": {
    "collapsed": false
   },
   "outputs": [
    {
     "name": "stdout",
     "output_type": "stream",
     "text": [
      "[[ 0.10125926  0.87465648  0.17322101]\n",
      " [ 0.82370279  0.19901731  0.46285047]\n",
      " [ 0.63989712  0.22917112  0.16570477]]\n"
     ]
    }
   ],
   "source": [
    "nr = np.random.random((3, 3))\n",
    "print nr"
   ]
  },
  {
   "cell_type": "code",
   "execution_count": 24,
   "metadata": {
    "collapsed": false
   },
   "outputs": [
    {
     "name": "stdout",
     "output_type": "stream",
     "text": [
      "[[0 0 0 0 0 0 0 0]\n",
      " [0 0 0 0 0 0 0 0]\n",
      " [0 0 0 0 0 0 0 0]\n",
      " [0 0 0 0 0 0 0 0]\n",
      " [0 0 0 0 0 0 0 0]\n",
      " [0 0 0 0 0 0 0 0]\n",
      " [0 0 0 0 0 0 0 0]\n",
      " [0 0 0 0 0 0 0 0]]\n",
      "[[0 0 0 0 0 0 0 0]\n",
      " [1 0 1 0 1 0 1 0]\n",
      " [0 0 0 0 0 0 0 0]\n",
      " [1 0 1 0 1 0 1 0]\n",
      " [0 0 0 0 0 0 0 0]\n",
      " [1 0 1 0 1 0 1 0]\n",
      " [0 0 0 0 0 0 0 0]\n",
      " [1 0 1 0 1 0 1 0]]\n"
     ]
    }
   ],
   "source": [
    "chess8x8 = np.zeros((8, 8), dtype=int)\n",
    "print chess8x8\n",
    "chess8x8[1::2, ::2]=1\n",
    "print chess8x8"
   ]
  },
  {
   "cell_type": "code",
   "execution_count": 26,
   "metadata": {
    "collapsed": false
   },
   "outputs": [
    {
     "name": "stdout",
     "output_type": "stream",
     "text": [
      "0.101259258965 0.874656484176\n"
     ]
    }
   ],
   "source": [
    "zmin, zmax = nr.min(), nr.max()\n",
    "print zmin, zmax"
   ]
  },
  {
   "cell_type": "code",
   "execution_count": 27,
   "metadata": {
    "collapsed": false
   },
   "outputs": [
    {
     "name": "stdout",
     "output_type": "stream",
     "text": [
      "[[0 1 0 1 0 1 0 1]\n",
      " [0 1 0 1 0 1 0 1]\n",
      " [0 1 0 1 0 1 0 1]\n",
      " [0 1 0 1 0 1 0 1]\n",
      " [0 1 0 1 0 1 0 1]\n",
      " [0 1 0 1 0 1 0 1]\n",
      " [0 1 0 1 0 1 0 1]\n",
      " [0 1 0 1 0 1 0 1]]\n"
     ]
    }
   ],
   "source": [
    "z = np.tile(np.array([[0, 1], [0, 1]]), (4, 4))\n",
    "print z\n"
   ]
  },
  {
   "cell_type": "code",
   "execution_count": 29,
   "metadata": {
    "collapsed": false
   },
   "outputs": [
    {
     "name": "stdout",
     "output_type": "stream",
     "text": [
      "[[ 0.85035518  0.46288616  0.55581744  0.19526213  0.41176131]\n",
      " [ 0.5986084   0.22200761  0.94865801  0.99862143  0.20656256]\n",
      " [ 0.13213444  0.95647527  0.81284435  0.32473754  0.63045425]\n",
      " [ 0.37385268  0.74547643  0.08467626  0.84154606  0.02334591]\n",
      " [ 0.63873464  0.2462396   0.74347817  0.88797295  0.10193171]]\n",
      "[[ 0.847975    0.45068315  0.54597036  0.17627452  0.39826222]\n",
      " [ 0.58984613  0.20369803  0.94876994  1.          0.18786143]\n",
      " [ 0.11154646  0.95678538  0.80951323  0.30903229  0.62249931]\n",
      " [ 0.35939256  0.74043745  0.06288516  0.83894256  0.        ]\n",
      " [ 0.63098962  0.22854433  0.73838853  0.88654643  0.08057805]]\n"
     ]
    }
   ],
   "source": [
    "z = np.random.random((5, 5))\n",
    "print z\n",
    "zmin, zmax = z.min(), z.max()\n",
    "z = (z - zmin)/(zmax-zmin)\n",
    "print z\n"
   ]
  },
  {
   "cell_type": "code",
   "execution_count": 35,
   "metadata": {
    "collapsed": false
   },
   "outputs": [
    {
     "name": "stdout",
     "output_type": "stream",
     "text": [
      "[[ 6.  6.]\n",
      " [ 6.  6.]\n",
      " [ 6.  6.]\n",
      " [ 6.  6.]\n",
      " [ 6.  6.]]\n"
     ]
    }
   ],
   "source": [
    "z = np.dot(np.ones((5, 3)), np.ones((3, 2))+1)\n",
    "print z\n",
    "                              "
   ]
  },
  {
   "cell_type": "code",
   "execution_count": null,
   "metadata": {
    "collapsed": true
   },
   "outputs": [],
   "source": []
  },
  {
   "cell_type": "code",
   "execution_count": null,
   "metadata": {
    "collapsed": true
   },
   "outputs": [],
   "source": []
  }
 ],
 "metadata": {
  "kernelspec": {
   "display_name": "Python 2",
   "language": "python",
   "name": "python2"
  },
  "language_info": {
   "codemirror_mode": {
    "name": "ipython",
    "version": 2
   },
   "file_extension": ".py",
   "mimetype": "text/x-python",
   "name": "python",
   "nbconvert_exporter": "python",
   "pygments_lexer": "ipython2",
   "version": "2.7.13"
  }
 },
 "nbformat": 4,
 "nbformat_minor": 2
}
